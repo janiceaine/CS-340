{
 "cells": [
  {
   "cell_type": "code",
   "execution_count": 1,
   "id": "840d178f",
   "metadata": {},
   "outputs": [
    {
     "name": "stdout",
     "output_type": "stream",
     "text": [
      "Document inserted successfully!\n",
      "Document inserted successfully!\n",
      "Found animals:\n",
      "{'_id': ObjectId('674418ed1cc3d6458baccbe4'), 'animal_id': 'A999902', 'name': 'Billy', 'species': 'Goat', 'age': 2, 'outcome_type': 'Adoption', 'date_outcome': '2024-11-24'}\n"
     ]
    }
   ],
   "source": [
    "from pymongo import MongoClient\n",
    "from bson.objectid import ObjectId\n",
    "\n",
    "class AnimalShelter(object):\n",
    "    \"\"\" CRUD operations for Animal collection in MongoDB \"\"\"\n",
    "    \n",
    "    def __init__(self):\n",
    "        # Initializing the MongoClient to access MongoDB\n",
    "        USER = 'aacuser'\n",
    "        PASS = 'SNHU1234'\n",
    "        HOST = 'nv-desktop-services.apporto.com'\n",
    "        PORT = 33363\n",
    "        DB = 'aac'\n",
    "        COL = 'animals'\n",
    "\n",
    "        # Initializing the Connection\n",
    "        self.client = MongoClient(f'mongodb://{USER}:{PASS}@{HOST}:{PORT}')\n",
    "        self.database = self.client[DB]\n",
    "        self.collection = self.database[COL]\n",
    "        \n",
    "    # Creating method to insert a document into MongoDB\n",
    "    def create(self, data):\n",
    "        \"\"\" Inserts a new document into the collection. \"\"\"\n",
    "        if data:\n",
    "            try:\n",
    "                self.collection.insert_one(data)\n",
    "                print(\"Document inserted successfully!\")\n",
    "                return True\n",
    "            except Exception as e:\n",
    "                print(f\"Error inserting document: {e}\")\n",
    "                return False\n",
    "        else:\n",
    "            raise Exception(\"Nothing to save, data parameter is empty\")\n",
    "\n",
    "    # Read method to query documents from MongoDB\n",
    "    def read(self, query):\n",
    "        \"\"\" Queries the collection based on the input query. \"\"\"\n",
    "        try:\n",
    "            documents = self.collection.find(query)  # Use find() for multiple documents\n",
    "            result = list(documents)  # Convert the cursor to a list\n",
    "            return result\n",
    "        except Exception as e:\n",
    "            print(f\"Error querying documents: {e}\")\n",
    "            return []\n",
    "\n",
    "# Create an instance of the AnimalShelter class\n",
    "animal_shelter = AnimalShelter()\n",
    "\n",
    "# Create a new document (animal record) to insert\n",
    "new_animal = {\n",
    "    \"animal_id\": \"A999902\",\n",
    "    \"name\": \"Billy\",\n",
    "    \"species\": \"Goat\",\n",
    "    \"age\": 2,\n",
    "    \"outcome_type\": \"Adoption\",\n",
    "    \"date_outcome\": \"2024-11-24\"\n",
    "}\n",
    "\n",
    "# Testing the Create functionality by inserting the new animal record\n",
    "insert_result = animal_shelter.create(new_animal)\n",
    "if insert_result:\n",
    "    print(\"Document inserted successfully!\")\n",
    "else:\n",
    "    print(\"Failed to insert document.\")\n",
    "\n",
    "# Testing the Read functionality by querying for all animals of species 'Dog'\n",
    "query = {\"species\": \"Goat\"}\n",
    "animals = animal_shelter.read(query)\n",
    "\n",
    "# Display the results of the query\n",
    "if animals:\n",
    "    print(\"Found animals:\")\n",
    "    for animal in animals:\n",
    "        print(animal)\n",
    "else:\n",
    "    print(\"No animals found.\")"
   ]
  },
  {
   "cell_type": "code",
   "execution_count": null,
   "id": "06d5941a",
   "metadata": {},
   "outputs": [],
   "source": []
  }
 ],
 "metadata": {
  "kernelspec": {
   "display_name": "Python 3 (ipykernel)",
   "language": "python",
   "name": "python3"
  },
  "language_info": {
   "codemirror_mode": {
    "name": "ipython",
    "version": 3
   },
   "file_extension": ".py",
   "mimetype": "text/x-python",
   "name": "python",
   "nbconvert_exporter": "python",
   "pygments_lexer": "ipython3",
   "version": "3.9.12"
  }
 },
 "nbformat": 4,
 "nbformat_minor": 5
}
