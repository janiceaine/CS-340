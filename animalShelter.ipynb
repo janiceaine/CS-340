{
 "cells": [
  {
   "cell_type": "code",
   "execution_count": 1,
   "id": "dcf4116b",
   "metadata": {},
   "outputs": [],
   "source": [
    "from pymongo import MongoClient\n",
    "from bson.objectid import ObjectId\n",
    "from bson.json_util import dumps\n",
    "\n",
    "class AnimalShelter(object):\n",
    "    \"\"\" CRUD operations for Animal collection in MOngoDB \"\"\"\n",
    "    \n",
    "    def __init__(self, username, password):\n",
    "        # Initializing the MongoClient. This helps to \n",
    "        # access the MongoDB databases and collections.\n",
    "        # This is hard-wired to use the aac database, the \n",
    "        # animals collection, and the aac user.\n",
    "        # Definitions of the connection string variables are\n",
    "        # unique to the individual Apporto environment.\n",
    "        #\n",
    "        # You must edit the connection variables below to reflect\n",
    "        # your own instance of MongoDB!\n",
    "        #\n",
    "        # Connection Variables\n",
    "        #\n",
    "        USER = 'aacuser'\n",
    "        PASS = 'SNHU1234'\n",
    "        HOST = 'nv-desktop-services.apporto.com'\n",
    "        PORT = 33363\n",
    "        DB = 'aac'\n",
    "        COL = 'animals'\n",
    "        #\n",
    "        # Initialize Connection\n",
    "        #\n",
    "        self.client = MongoClient('mongodb://%s:%s@%s:%d' % (USER,PASS,HOST,PORT))\n",
    "        self.database = self.client['%s' % (DB)]\n",
    "        self.collection = self.database['%s' % (COL)]\n",
    "        \n",
    "# Complete this create method to implement the C in CRUD.\n",
    "    def create(self, data):\n",
    "        if data is not None:\n",
    "            # validating that the data is a dictionary\n",
    "            insert = self.collection.insert_one(data)  # data should be dictionary\n",
    "            if insert is not None:\n",
    "                return True\n",
    "            else:\n",
    "                return False\n",
    "        else:\n",
    "            raise Exception(\"Nothing to save, because data parameter is empty\")\n",
    "            \n",
    "\n",
    "# Create method to implement the R in CRUD.\n",
    "    def read(self, searchData):\n",
    "        if searchData:\n",
    "            data = self.collection.find(searchData, {\"_id\": False})\n",
    "        else:\n",
    "            data = self.collection.find({}, {\"_id\": False})\n",
    "        return data\n",
    "    \n",
    "# Create method to implement the U in CRUD\n",
    "    def update(self, searchData, updateData):\n",
    "        if searchData is not None:\n",
    "            result = self.collection.update_many(searchData, {\"$set\": updateData})\n",
    "        else:\n",
    "            return \"{}\"\n",
    "        return result.raw_result\n",
    "    \n",
    "# Create method to implement the D in CRUD\n",
    "    def delete(self, deleteData):\n",
    "        if deleteData is not None:\n",
    "            result = self.collection.delete_many(deleteData)\n",
    "        else:\n",
    "            return \"{}\"\n",
    "        return result.raw_result"
   ]
  },
  {
   "cell_type": "code",
   "execution_count": 3,
   "id": "c35bdaf6",
   "metadata": {},
   "outputs": [
    {
     "name": "stdout",
     "output_type": "stream",
     "text": [
      "True\n",
      "<pymongo.cursor.Cursor object at 0x7eff04d22250>\n",
      "{'n': 39, 'nModified': 39, 'ok': 1.0, 'updatedExisting': True}\n",
      "{'n': 39, 'ok': 1.0}\n"
     ]
    }
   ],
   "source": [
    "shelter = AnimalShelter(\"aacuser\", \"SNHU1234\")\n",
    "\n",
    "data = {\"animal_type\": \"Dog\", \"name\" : \"Lucy\", \"age\": 2, \"breed\" : \"Labrador\"}\n",
    "print(shelter.create(data))\n",
    "\n",
    "query = {\"name\" : \"Lucy\"}\n",
    "print (shelter.read(query))\n",
    "\n",
    "update_query = {\"name\" : \"Lucy\"}\n",
    "new_data = {\"age\" : 3}\n",
    "print(shelter.update(update_query, new_data))\n",
    "\n",
    "delete_query = {\"name\" : \"Lucy\"}\n",
    "print(shelter.delete(delete_query))"
   ]
  },
  {
   "cell_type": "code",
   "execution_count": null,
   "id": "f376ac85",
   "metadata": {},
   "outputs": [],
   "source": []
  }
 ],
 "metadata": {
  "kernelspec": {
   "display_name": "Python 3 (ipykernel)",
   "language": "python",
   "name": "python3"
  },
  "language_info": {
   "codemirror_mode": {
    "name": "ipython",
    "version": 3
   },
   "file_extension": ".py",
   "mimetype": "text/x-python",
   "name": "python",
   "nbconvert_exporter": "python",
   "pygments_lexer": "ipython3",
   "version": "3.9.12"
  }
 },
 "nbformat": 4,
 "nbformat_minor": 5
}
